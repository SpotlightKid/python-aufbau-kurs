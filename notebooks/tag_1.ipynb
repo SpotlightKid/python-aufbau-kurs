{
 "cells": [
  {
   "cell_type": "code",
   "execution_count": 2,
   "metadata": {},
   "outputs": [
    {
     "name": "stdout",
     "output_type": "stream",
     "text": [
      "Unknown\n",
      "0\n",
      "[]\n"
     ]
    }
   ],
   "source": [
    "class Employee:\n",
    "    name = \"Unknown\"\n",
    "    gehalt = 0\n",
    "    skills = []\n",
    "\n",
    "employee1 = Employee()\n",
    "print(employee1.name)\n",
    "print(employee1.gehalt)\n",
    "print(employee1.skills)"
   ]
  },
  {
   "cell_type": "code",
   "execution_count": 7,
   "metadata": {},
   "outputs": [
    {
     "name": "stdout",
     "output_type": "stream",
     "text": [
      "Guten Tag, Guten Tag\n"
     ]
    }
   ],
   "source": [
    "s = \"{1}, {1}\"\n",
    "print(s.format(\"Welt\", \"Guten Tag\"))"
   ]
  },
  {
   "cell_type": "code",
   "execution_count": 18,
   "metadata": {},
   "outputs": [
    {
     "name": "stdout",
     "output_type": "stream",
     "text": [
      "Employee 'Joe'\n",
      "    gehalt: 2000\n",
      "    skills:\n",
      "        - hr\n",
      "        - management\n"
     ]
    }
   ],
   "source": [
    "class Employee:\n",
    "    def __init__(self, name=\"\", gehalt=0, skills=[]):\n",
    "        self.name = name\n",
    "        self.gehalt = gehalt\n",
    "\n",
    "        if skills is None:\n",
    "            self.skills = []\n",
    "        else:\n",
    "            self.skills = skills\n",
    "\n",
    "    def __str__(self):\n",
    "        s  = [f\"Employee '{self.name}'\"]\n",
    "        s.append(f\"    gehalt: {self.gehalt}\")\n",
    "        s.append(f\"    skills:\")\n",
    "        for skill in self.skills:\n",
    "            s.append(f\"        - {skill}\")\n",
    "        return \"\\n\".join(s)\n",
    "\n",
    "e1 = Employee(\"Joe\", 2000, [\"hr\", \"management\"])\n",
    "print(e1.__str__())"
   ]
  },
  {
   "cell_type": "code",
   "execution_count": 7,
   "metadata": {},
   "outputs": [
    {
     "name": "stdout",
     "output_type": "stream",
     "text": [
      "Jane\n",
      "Age: 10\n",
      "Joe\n"
     ]
    }
   ],
   "source": [
    "class Person:\n",
    "    def __init__(self, name):\n",
    "        self._name = name  # private attribute\n",
    "        self._age = 0\n",
    "\n",
    "    @property\n",
    "    def name(self):\n",
    "        \"\"\"The name property getter.\"\"\"\n",
    "        return self._name\n",
    "\n",
    "    @name.setter\n",
    "    def name(self, value):\n",
    "        \"\"\"The name property setter.\"\"\"\n",
    "        if not value:\n",
    "            raise ValueError(\"Name cannot be empty\")\n",
    "        if not isinstance(value, str):\n",
    "            raise TypeError(\"Name must be a string\")\n",
    "        if len(value.split()) < 2:\n",
    "            raise ValueError(\"Name must have at least two elements\")\n",
    "        self._name = value\n",
    "\n",
    "    @name.deleter\n",
    "    def name(self):\n",
    "        self._name = None\n",
    "\n",
    "    @property\n",
    "    def age(self):\n",
    "        return self._age\n",
    "    \n",
    "    @age.setter\n",
    "    def age(self, value):\n",
    "        if not isinstance(value, int) or value <= 0:\n",
    "            raise ValueError(\"Age must be a positive integer\")\n",
    "        self._age = value\n",
    "\n",
    "    @property\n",
    "    def firstname(self):\n",
    "        return self._name.split()[0]\n",
    "    \n",
    "p = Person(\"Jane\")\n",
    "print(p.name)\n",
    "del p.name\n",
    "assert p.name is None\n",
    "p.name = \"Joe Doe\"\n",
    "#p.name = \"Jane\"  # ValueError\n",
    "p.age = 10\n",
    "print(\"Age:\", p.age)\n",
    "# p.age = -1      # ValueError\n",
    "print(p.firstname)\n"
   ]
  },
  {
   "cell_type": "code",
   "execution_count": 9,
   "metadata": {},
   "outputs": [
    {
     "name": "stdout",
     "output_type": "stream",
     "text": [
      "wrapper\n",
      "None\n"
     ]
    }
   ],
   "source": [
    "def log_decorator(func):\n",
    "    def wrapper(*args, **kwargs):\n",
    "        print(f\"Calling function {func.__name__} with arguments {args} {kwargs}\")\n",
    "        result = func(*args, **kwargs)\n",
    "        print(f\"Function {func.__name__} returned {result}\")\n",
    "        return result\n",
    "    return wrapper\n",
    "\n",
    "@log_decorator\n",
    "def add(a, b):\n",
    "    \"\"\"Adds two numbers.\"\"\"\n",
    "    return a + b\n",
    "\n",
    "print(add.__name__)\n",
    "print(add.__doc__)"
   ]
  },
  {
   "cell_type": "code",
   "execution_count": 13,
   "metadata": {},
   "outputs": [
    {
     "name": "stdout",
     "output_type": "stream",
     "text": [
      "Calling function add with arguments (23, 42) {}\n",
      "Function add returned 65\n",
      "65\n",
      "Calling function frobnicate with arguments ('fish', 42) {}\n",
      "Function frobnicate returned frobnicated!\n",
      "frobnicated!\n",
      "Calling function nop with arguments () {}\n",
      "Function nop returned None\n",
      "None\n"
     ]
    }
   ],
   "source": [
    "def log_decorator(func):\n",
    "    def wrapper(*args, **kwargs):\n",
    "        print(f\"Calling function {func.__name__} with arguments {args} {kwargs}\")\n",
    "        result = func(*args, **kwargs)\n",
    "        print(f\"Function {func.__name__} returned {result}\")\n",
    "        return result\n",
    "    return wrapper\n",
    "\n",
    "@log_decorator\n",
    "def add(a, b):\n",
    "    \"\"\"Adds two numbers.\"\"\"\n",
    "    return a + b\n",
    "\n",
    "@log_decorator\n",
    "def frobnicate(ham, spamm):\n",
    "    return \"frobnicated!\"\n",
    "\n",
    "@log_decorator\n",
    "def nop():\n",
    "    pass\n",
    "\n",
    "print(add(23, 42))\n",
    "print(frobnicate(\"fish\", 42))\n",
    "print(nop())"
   ]
  },
  {
   "cell_type": "code",
   "execution_count": null,
   "metadata": {},
   "outputs": [
    {
     "ename": "AssertionError",
     "evalue": "Keyword arg not int",
     "output_type": "error",
     "traceback": [
      "\u001b[31m---------------------------------------------------------------------------\u001b[39m",
      "\u001b[31mAssertionError\u001b[39m                            Traceback (most recent call last)",
      "\u001b[36mCell\u001b[39m\u001b[36m \u001b[39m\u001b[32mIn[20]\u001b[39m\u001b[32m, line 15\u001b[39m\n\u001b[32m     13\u001b[39m nop(\u001b[32m1\u001b[39m, \u001b[32m2\u001b[39m, \u001b[32m3\u001b[39m)\n\u001b[32m     14\u001b[39m \u001b[38;5;66;03m#nop(\"a\", \"b\", \"c\")\u001b[39;00m\n\u001b[32m---> \u001b[39m\u001b[32m15\u001b[39m \u001b[43mnop\u001b[49m\u001b[43m(\u001b[49m\u001b[32;43m1\u001b[39;49m\u001b[43m,\u001b[49m\u001b[43m \u001b[49m\u001b[32;43m2\u001b[39;49m\u001b[43m,\u001b[49m\u001b[43m \u001b[49m\u001b[43mc\u001b[49m\u001b[43m=\u001b[49m\u001b[33;43m\"\u001b[39;49m\u001b[33;43mc\u001b[39;49m\u001b[33;43m\"\u001b[39;49m\u001b[43m)\u001b[49m\n",
      "\u001b[36mCell\u001b[39m\u001b[36m \u001b[39m\u001b[32mIn[20]\u001b[39m\u001b[32m, line 4\u001b[39m, in \u001b[36march_checker.<locals>.wrapper\u001b[39m\u001b[34m(*args, **kwargs)\u001b[39m\n\u001b[32m      2\u001b[39m \u001b[38;5;28;01mdef\u001b[39;00m\u001b[38;5;250m \u001b[39m\u001b[34mwrapper\u001b[39m(*args, **kwargs):\n\u001b[32m      3\u001b[39m     \u001b[38;5;28;01massert\u001b[39;00m \u001b[38;5;28mall\u001b[39m(\u001b[38;5;28misinstance\u001b[39m(a, \u001b[38;5;28mint\u001b[39m) \u001b[38;5;28;01mfor\u001b[39;00m a \u001b[38;5;129;01min\u001b[39;00m args), \u001b[33m\"\u001b[39m\u001b[33mPositional arg not int\u001b[39m\u001b[33m\"\u001b[39m\n\u001b[32m----> \u001b[39m\u001b[32m4\u001b[39m     \u001b[38;5;28;01massert\u001b[39;00m \u001b[38;5;28mall\u001b[39m(\u001b[38;5;28misinstance\u001b[39m(v, \u001b[38;5;28mint\u001b[39m) \u001b[38;5;28;01mfor\u001b[39;00m v \u001b[38;5;129;01min\u001b[39;00m kwargs.values()), \u001b[33m\"\u001b[39m\u001b[33mKeyword arg not int\u001b[39m\u001b[33m\"\u001b[39m\n\u001b[32m      5\u001b[39m     result = func(*args, **kwargs)\n\u001b[32m      6\u001b[39m     \u001b[38;5;28;01mreturn\u001b[39;00m result\n",
      "\u001b[31mAssertionError\u001b[39m: Keyword arg not int"
     ]
    }
   ],
   "source": [
    "def arch_checker(func):\n",
    "    def wrapper(*args, **kwargs):\n",
    "        assert all(isinstance(a, int) for a in args), \"Positional arg not int\"\n",
    "        assert all(isinstance(v, int) for v in kwargs.values()), \"Keyword arg not int\"\n",
    "        result = func(*args, **kwargs)\n",
    "        return result\n",
    "    return wrapper\n",
    "\n",
    "@arch_checker\n",
    "def nop(a, b, c):\n",
    "    pass\n",
    "\n",
    "nop(1, 2, 3)\n",
    "#nop(\"a\", \"b\", \"c\")\n",
    "nop(1, 2, c=\"c\")"
   ]
  },
  {
   "cell_type": "code",
   "execution_count": 26,
   "metadata": {},
   "outputs": [
    {
     "name": "stdout",
     "output_type": "stream",
     "text": [
      "Starting timing of function operate\n",
      "Function operate took 0.100487 seconds.\n"
     ]
    }
   ],
   "source": [
    "import time\n",
    "import functools\n",
    "\n",
    "def timeit(func):\n",
    "    @functools.wraps(func)\n",
    "    def wrapper(*args, **kwargs):\n",
    "        print(f\"Starting timing of function {func.__name__}\")\n",
    "        start = time.time()\n",
    "        result = func(*args, **kwargs)\n",
    "        end = time.time()\n",
    "        print(f\"Function {func.__name__} took {end - start:.6f} seconds.\")\n",
    "        return result\n",
    "    return wrapper\n",
    "\n",
    "class Machine:\n",
    "    @timeit\n",
    "    def operate(self, n=100):\n",
    "        time.sleep(n/1000.)\n",
    "\n",
    "m = Machine()\n",
    "m.operate()"
   ]
  },
  {
   "cell_type": "code",
   "execution_count": 27,
   "metadata": {},
   "outputs": [
    {
     "name": "stdout",
     "output_type": "stream",
     "text": [
      "Calling function combustulate with arguments (666,) {}\n",
      "Starting timing of function combustulate\n",
      "Function combustulate took 0.666381 seconds.\n",
      "Function combustulate returned None\n"
     ]
    }
   ],
   "source": [
    "@log_decorator\n",
    "@timeit\n",
    "def combustulate(n=100):\n",
    "    time.sleep(n/1000.0)\n",
    "\n",
    "combustulate(666)"
   ]
  },
  {
   "cell_type": "code",
   "execution_count": null,
   "metadata": {},
   "outputs": [],
   "source": []
  },
  {
   "cell_type": "code",
   "execution_count": 25,
   "metadata": {},
   "outputs": [
    {
     "name": "stdout",
     "output_type": "stream",
     "text": [
      "Calling add\n",
      "3\n",
      "Calling add\n",
      "5\n"
     ]
    }
   ],
   "source": [
    "from config import LOGGING\n",
    "\n",
    "def log_with_level(enabled=False):\n",
    "    def decorator(func):\n",
    "        def wrapper(*args, **kwargs):\n",
    "            if enabled:\n",
    "                print(f\"Calling {func.__name__}\")\n",
    "            return func(*args, **kwargs)\n",
    "        return wrapper\n",
    "    return decorator\n",
    "\n",
    "@log_with_level(enabled=LOGGING)\n",
    "def add(a, b):\n",
    "    return a + b\n",
    "\n",
    "print(add(1,2))\n",
    "LOGGING = False\n",
    "print(add(2,3))"
   ]
  }
 ],
 "metadata": {
  "kernelspec": {
   "display_name": "Python 3",
   "language": "python",
   "name": "python3"
  },
  "language_info": {
   "codemirror_mode": {
    "name": "ipython",
    "version": 3
   },
   "file_extension": ".py",
   "mimetype": "text/x-python",
   "name": "python",
   "nbconvert_exporter": "python",
   "pygments_lexer": "ipython3",
   "version": "3.13.0"
  }
 },
 "nbformat": 4,
 "nbformat_minor": 2
}
