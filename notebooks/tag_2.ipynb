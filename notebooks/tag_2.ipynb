{
 "cells": [
  {
   "cell_type": "code",
   "execution_count": null,
   "id": "7d6869c9",
   "metadata": {},
   "outputs": [],
   "source": [
    "from dataclasses import dataclass, field\n",
    "\n",
    "@dataclass\n",
    "class Person:\n",
    "    name: str\n",
    "    age: int\n",
    "    id: int = field(default=0, compare=False)\n",
    "    email: str = field(default=\"\")\n",
    "\n",
    "p1 = Person(\"Dave\", 40, id=1)\n",
    "p2 = Person(\"John\", 33, id=2, email=\"john@example.com\")\n",
    "print(p1)\n",
    "print(p2)"
   ]
  },
  {
   "cell_type": "markdown",
   "id": "7df3cd6e",
   "metadata": {},
   "source": [
    "# Übungen Datenklassen"
   ]
  },
  {
   "cell_type": "code",
   "execution_count": null,
   "id": "8e94cc90",
   "metadata": {},
   "outputs": [],
   "source": [
    "@dataclass\n",
    "class Book:\n",
    "    title: str\n",
    "    author: str\n",
    "    year: str\n",
    "\n",
    "b1 = Book(\"Emma\", \"Jane Austen\", \"1816\")\n",
    "print(b1)\n",
    "b2 = Book(\"Wuthering Heights\", year=\"1847\", author=\"Emily Brontë\")\n",
    "print(b2)\n",
    "\n",
    "from dataclasses import *\n",
    "import json\n",
    "print(asdict(b2))\n",
    "print(json.dumps(asdict(b2)))"
   ]
  },
  {
   "cell_type": "code",
   "execution_count": null,
   "id": "b6365378",
   "metadata": {},
   "outputs": [],
   "source": [
    "@dataclass(order=True)\n",
    "class Person:\n",
    "    name: str\n",
    "    age: int\n",
    "    id: int = field(compare=False)\n",
    "\n",
    "persons = [\n",
    "    Person(\"John\", 40, 1), \n",
    "    Person(\"Alice\", 31, 2), \n",
    "    Person(\"Bob\", 38, 3), \n",
    "    Person(\"Dave\", 20, 4)\n",
    "]\n",
    "\n",
    "for p in sorted(persons):\n",
    "    print(p)"
   ]
  },
  {
   "cell_type": "markdown",
   "id": "5b17b7d6",
   "metadata": {},
   "source": [
    "\n"
   ]
  },
  {
   "cell_type": "code",
   "execution_count": null,
   "id": "7591ab75",
   "metadata": {},
   "outputs": [],
   "source": [
    "class Person:\n",
    "    last_id = 0\n",
    "\n",
    "    @property\n",
    "    def id(self):\n",
    "        id = self.last_id + 1\n",
    "        Person.last_id = id\n",
    "        return id\n"
   ]
  },
  {
   "cell_type": "markdown",
   "id": "b0d04034",
   "metadata": {},
   "source": []
  },
  {
   "cell_type": "markdown",
   "id": "97d3ef2c",
   "metadata": {},
   "source": [
    "## URLs\n",
    "\n",
    "https://example.com/\n",
    "\n",
    "# Mime-types\n",
    "\n",
    "text/html\n",
    "image/jpg\n",
    "image/png\n"
   ]
  },
  {
   "cell_type": "code",
   "execution_count": null,
   "id": "694a3abc",
   "metadata": {},
   "outputs": [],
   "source": [
    "def bar(*args):\n",
    "    print(args)\n",
    "\n",
    "#bar(1, 4, 5, \"foo\", 23.0)\n",
    "\n",
    "def foo(*args, **kwargs):\n",
    "    print(args)\n",
    "    print(kwargs)\n",
    "\n",
    "foo(msg=\"hello\", spamm=\"ham\", answer=42)"
   ]
  },
  {
   "cell_type": "code",
   "execution_count": 29,
   "id": "58df2e16",
   "metadata": {},
   "outputs": [
    {
     "name": "stdout",
     "output_type": "stream",
     "text": [
      "David Kunze ist dran!\n"
     ]
    }
   ],
   "source": [
    "from random import choice\n",
    "\n",
    "teilnehmer = [\n",
    "    \"Martin Meyer\",\n",
    "    \"David Kunze\",\n",
    "    \"Edin Lutvija\",\n",
    "    \"Michael Schramm\",\n",
    "]\n",
    "\n",
    "print(f\"{choice(teilnehmer)} ist dran!\")"
   ]
  }
 ],
 "metadata": {
  "kernelspec": {
   "display_name": "Python 3",
   "language": "python",
   "name": "python3"
  },
  "language_info": {
   "codemirror_mode": {
    "name": "ipython",
    "version": 3
   },
   "file_extension": ".py",
   "mimetype": "text/x-python",
   "name": "python",
   "nbconvert_exporter": "python",
   "pygments_lexer": "ipython3",
   "version": "3.13.0"
  }
 },
 "nbformat": 4,
 "nbformat_minor": 5
}
